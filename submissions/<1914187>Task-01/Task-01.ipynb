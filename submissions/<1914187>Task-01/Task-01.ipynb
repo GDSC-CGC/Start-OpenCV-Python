{
 "cells": [
  {
   "cell_type": "code",
   "execution_count": 1,
   "id": "veterinary-bearing",
   "metadata": {},
   "outputs": [],
   "source": [
    "##QUE_1)\n"
   ]
  },
  {
   "cell_type": "code",
   "execution_count": 1,
   "id": "blessed-indonesian",
   "metadata": {},
   "outputs": [
    {
     "name": "stdout",
     "output_type": "stream",
     "text": [
      "Enter 0 no---> 1\n",
      "Enter 1 no---> 2\n",
      "Enter 2 no---> 3\n",
      "Enter 3 no---> 4\n",
      "Enter 4 no---> 5\n",
      "Enter 5 no---> 6\n",
      "Enter 6 no---> 7\n",
      "Enter 7 no---> 8\n",
      "Enter 8 no---> 9\n"
     ]
    }
   ],
   "source": [
    "nums=[]\n",
    "for i in range(9):\n",
    "    nums.append(float(input(f\"Enter {i} no---> \")))\n"
   ]
  },
  {
   "cell_type": "code",
   "execution_count": 2,
   "id": "ready-voluntary",
   "metadata": {},
   "outputs": [
    {
     "name": "stdout",
     "output_type": "stream",
     "text": [
      "[1.0, 2.0, 3.0, 4.0, 5.0, 6.0, 7.0, 8.0, 9.0]\n"
     ]
    }
   ],
   "source": [
    "print(nums)"
   ]
  },
  {
   "cell_type": "code",
   "execution_count": 3,
   "id": "heavy-copying",
   "metadata": {},
   "outputs": [],
   "source": [
    "#QUE-02\n"
   ]
  },
  {
   "cell_type": "code",
   "execution_count": 8,
   "id": "former-hybrid",
   "metadata": {},
   "outputs": [
    {
     "name": "stdout",
     "output_type": "stream",
     "text": [
      "Enter from ====>>1 \n",
      "Enter to ====>>50\n",
      "[2, 3, 5, 7, 11, 13, 17, 19, 23, 29, 31, 37, 41, 43, 47]\n"
     ]
    }
   ],
   "source": [
    "lower_limit=int(input(\"Enter from ====>>\"))\n",
    "upper_limit=int(input(\"Enter to ====>>\"))\n",
    "primes=[]\n",
    "for i in range(lower_limit,upper_limit+1):\n",
    "    if(i>1):\n",
    "        for j in range(2,i):\n",
    "            if(i%j==0):\n",
    "                break\n",
    "        else:\n",
    "            primes.append(i)\n",
    "print(primes)\n"
   ]
  },
  {
   "cell_type": "code",
   "execution_count": 10,
   "id": "aboriginal-party",
   "metadata": {},
   "outputs": [],
   "source": [
    "#QUE-03\n",
    "\n"
   ]
  },
  {
   "cell_type": "code",
   "execution_count": 69,
   "id": "creative-profit",
   "metadata": {},
   "outputs": [],
   "source": [
    "class Vehicles:\n",
    "    def __init__(self,seats):\n",
    "        self.seats=seats\n",
    "        self.fare=55\n",
    "    def calculate_fare(self):\n",
    "        return(self.seats*self.fare)\n",
    "        "
   ]
  },
  {
   "cell_type": "code",
   "execution_count": 70,
   "id": "divided-throw",
   "metadata": {},
   "outputs": [],
   "source": [
    "class Van(Vehicles):\n",
    "    def __init__(self,seats):\n",
    "        super().__init__(seats)\n",
    "    def calculate_fare(self):\n",
    "        fare=super().calculate_fare()\n",
    "        print(\"total fare with maintainance charge\")\n",
    "        return (fare+0.08*fare)\n",
    "        "
   ]
  },
  {
   "cell_type": "code",
   "execution_count": 71,
   "id": "brown-pepper",
   "metadata": {},
   "outputs": [
    {
     "name": "stdout",
     "output_type": "stream",
     "text": [
      "total fare with maintainance charge\n"
     ]
    },
    {
     "data": {
      "text/plain": [
       "237.6"
      ]
     },
     "execution_count": 71,
     "metadata": {},
     "output_type": "execute_result"
    }
   ],
   "source": [
    "v= Van(4)\n",
    "v.calculate_fare()"
   ]
  },
  {
   "cell_type": "code",
   "execution_count": 72,
   "id": "alone-brief",
   "metadata": {},
   "outputs": [
    {
     "data": {
      "text/plain": [
       "220"
      ]
     },
     "execution_count": 72,
     "metadata": {},
     "output_type": "execute_result"
    }
   ],
   "source": [
    "van = Vehicles(4)\n",
    "van.calculate_fare()"
   ]
  },
  {
   "cell_type": "code",
   "execution_count": null,
   "id": "baking-variation",
   "metadata": {},
   "outputs": [],
   "source": []
  }
 ],
 "metadata": {
  "kernelspec": {
   "display_name": "Python 3",
   "language": "python",
   "name": "python3"
  },
  "language_info": {
   "codemirror_mode": {
    "name": "ipython",
    "version": 3
   },
   "file_extension": ".py",
   "mimetype": "text/x-python",
   "name": "python",
   "nbconvert_exporter": "python",
   "pygments_lexer": "ipython3",
   "version": "3.7.0"
  }
 },
 "nbformat": 4,
 "nbformat_minor": 5
}
