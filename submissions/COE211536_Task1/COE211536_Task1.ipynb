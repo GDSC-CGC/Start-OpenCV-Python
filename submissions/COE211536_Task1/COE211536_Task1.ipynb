{
 "cells": [
  {
   "cell_type": "markdown",
   "id": "d4f357aa-55bc-4969-b9d4-837e6f9837fa",
   "metadata": {},
   "source": [
    "# To take 9 float values from user"
   ]
  },
  {
   "cell_type": "code",
   "execution_count": null,
   "id": "5749ca6a-9eeb-40f8-ba78-9f184d49eb4b",
   "metadata": {},
   "outputs": [],
   "source": [
    "numbers = [float(input()) for i in range(9)]\n",
    "print(numbers)"
   ]
  },
  {
   "cell_type": "markdown",
   "id": "b08fbb49-7e32-4366-8034-bceeaabf64a6",
   "metadata": {},
   "source": [
    "# To display all prime numbers within a range"
   ]
  },
  {
   "cell_type": "code",
   "execution_count": 5,
   "id": "08c9c396-46ad-4d25-84a0-9c5ab41a671a",
   "metadata": {},
   "outputs": [
    {
     "name": "stdin",
     "output_type": "stream",
     "text": [
      " 117\n"
     ]
    },
    {
     "name": "stdout",
     "output_type": "stream",
     "text": [
      "Not a prime number\n"
     ]
    }
   ],
   "source": [
    "import math\n",
    "n = int(input())\n",
    "i = True\n",
    "for i in range(2,int(math.sqrt(n))):\n",
    "    if n%i == 0:\n",
    "        i = False\n",
    "        break\n",
    "print(\"Prime number\") if i else print(\"Not a prime number\")"
   ]
  },
  {
   "cell_type": "markdown",
   "id": "8e38e626-eb82-4188-8717-cd3ea5621283",
   "metadata": {},
   "source": [
    "# Classes question"
   ]
  },
  {
   "cell_type": "code",
   "execution_count": 6,
   "id": "b19a8215-8c29-412e-ab39-249d584d0c7e",
   "metadata": {},
   "outputs": [
    {
     "name": "stdout",
     "output_type": "stream",
     "text": [
      "534.6\n"
     ]
    }
   ],
   "source": [
    "class Vehicle:\n",
    "    def __init__(self,capacity):\n",
    "        self.capacity = capacity\n",
    "        self.fare = capacity*55\n",
    "    def getFare(self):\n",
    "        return self.fare\n",
    "    \n",
    "class Van(Vehicle):\n",
    "    def __init__(self,capacity=9):\n",
    "        super().__init__(capacity)\n",
    "        self.fare = (self.fare)*(8/100) + self.fare\n",
    "van1 = Van()\n",
    "print(van1.getFare())"
   ]
  },
  {
   "cell_type": "code",
   "execution_count": null,
   "id": "0eaca3ae-47a0-4169-8909-57b0980bfdf0",
   "metadata": {},
   "outputs": [],
   "source": []
  }
 ],
 "metadata": {
  "kernelspec": {
   "display_name": "Python 3 (ipykernel)",
   "language": "python",
   "name": "python3"
  },
  "language_info": {
   "codemirror_mode": {
    "name": "ipython",
    "version": 3
   },
   "file_extension": ".py",
   "mimetype": "text/x-python",
   "name": "python",
   "nbconvert_exporter": "python",
   "pygments_lexer": "ipython3",
   "version": "3.9.6"
  }
 },
 "nbformat": 4,
 "nbformat_minor": 5
}
